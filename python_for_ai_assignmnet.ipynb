{
 "cells": [
  {
   "cell_type": "code",
   "execution_count": 1,
   "id": "ac87cc76-d8c3-4f29-8ef5-8faace1d1c12",
   "metadata": {},
   "outputs": [
    {
     "name": "stdout",
     "output_type": "stream",
     "text": [
      "12\n"
     ]
    }
   ],
   "source": [
    "#Write a Python program to determine the largest among three numbers entered by the user\n",
    "\n",
    "'''def largest(a,b,c):\n",
    "    if (a>=b) and (a>=c):\n",
    "        return a\n",
    "    elif (b>=a) and (b>=c):\n",
    "        return b\n",
    "    else:\n",
    "        return c\n",
    "    \n",
    "print(largest(3,8,4))'''\n",
    "\n",
    "def maximum(a,b,c):\n",
    "    list1=[a,b,c]\n",
    "    return max(list1)\n",
    "\n",
    "print(maximum(8,12,4))"
   ]
  },
  {
   "cell_type": "code",
   "execution_count": 4,
   "id": "5d1517a2-5fa8-44cd-8d0f-21cca63a2669",
   "metadata": {},
   "outputs": [
    {
     "name": "stdin",
     "output_type": "stream",
     "text": [
      "enter the year to find leap year 2024\n"
     ]
    },
    {
     "name": "stdout",
     "output_type": "stream",
     "text": [
      "2024 is leap year\n"
     ]
    }
   ],
   "source": [
    "#''Write a Python program to check if a given year is a leap year.\n",
    "\n",
    "'''Hints \n",
    "Check if the year is divisible by 4\n",
    "heck if the year is divisible by 100, but not divisible by 400\n",
    "´if the year satisfies either of the above conditions, it's a leap year'''\n",
    "\n",
    "\n",
    "def leapyear():\n",
    "    year=int(input(\"enter the year to find leap year\"))\n",
    "    if (year%4==0) and (year%100!=0):\n",
    "         print(f\"{year} is leap year\")\n",
    "    elif (year%100==0) and (year%400==0):\n",
    "            print(f\"{year} is leap year\")\n",
    "    else:\n",
    "        print(\"{0} is not leap year\".format(year))\n",
    "\n",
    "leapyear()"
   ]
  },
  {
   "cell_type": "code",
   "execution_count": 10,
   "id": "a3702383-2396-428c-81d7-29aaabbc0a92",
   "metadata": {},
   "outputs": [
    {
     "name": "stdin",
     "output_type": "stream",
     "text": [
      "Enter number of rows :  5\n"
     ]
    },
    {
     "name": "stdout",
     "output_type": "stream",
     "text": [
      "1 \n",
      "2 2 \n",
      "3 3 3 \n",
      "4 4 4 4 \n",
      "5 5 5 5 5 \n"
     ]
    }
   ],
   "source": [
    "'''#Write a Python program to print the following pattern:\n",
    "1\n",
    "22\n",
    "333\n",
    "4444'''\n",
    "\n",
    "def pattern_num():\n",
    "    \n",
    "        n = int(input('Enter number of rows : '))\n",
    "\n",
    "        i = 1\n",
    "        while i <= n :\n",
    "            j = 1\n",
    "            while j <= i:\n",
    "                print(i, end = \" \")\n",
    "                j += 1\n",
    "            print()\n",
    "            i += 1\n",
    "\n",
    "pattern_num()"
   ]
  },
  {
   "cell_type": "code",
   "execution_count": 11,
   "id": "a847550e-029d-4e2e-8332-11ed74116979",
   "metadata": {},
   "outputs": [
    {
     "name": "stdin",
     "output_type": "stream",
     "text": [
      "Enter number of rows :  4\n"
     ]
    },
    {
     "name": "stdout",
     "output_type": "stream",
     "text": [
      "* \n",
      "* * \n",
      "* * * \n",
      "* * * * \n"
     ]
    }
   ],
   "source": [
    "'''Write a Python program to print the following pattern:\n",
    "*\n",
    "**\n",
    "***\n",
    "****'''\n",
    "\n",
    "def pattern_star():\n",
    "    \n",
    "        n = int(input('Enter number of rows : '))\n",
    "\n",
    "        i = 1\n",
    "        while i <= n :\n",
    "            j = 1\n",
    "            while j <= i:\n",
    "                print(\"*\", end = \" \")\n",
    "                j += 1\n",
    "            print()\n",
    "            i += 1\n",
    "\n",
    "pattern_star()"
   ]
  },
  {
   "cell_type": "code",
   "execution_count": 18,
   "id": "6f8e4ef2-07d2-4a16-9555-23626aac0121",
   "metadata": {},
   "outputs": [
    {
     "name": "stdin",
     "output_type": "stream",
     "text": [
      "Enter number of rows :  6\n"
     ]
    },
    {
     "name": "stdout",
     "output_type": "stream",
     "text": [
      "     *\n",
      "    **\n",
      "   ***\n",
      "  ****\n",
      " *****\n",
      "******\n"
     ]
    }
   ],
   "source": [
    "\n",
    "'''Write a Python program to print the following pattern:\n",
    "\n",
    "        *\n",
    "      * *\n",
    "    * * *'''\n",
    "\n",
    "def pattern_star1():\n",
    "    \n",
    "    n = int(input('Enter number of rows : '))\n",
    "\n",
    "    for i in range(n):\n",
    "        print(\" \"*(n-i-1)+\"*\"*(1*i+1))\n",
    "            \n",
    "pattern_star1()        "
   ]
  },
  {
   "cell_type": "code",
   "execution_count": 20,
   "id": "cda48d25-d5fb-4fff-a85a-7c3de18e9008",
   "metadata": {},
   "outputs": [
    {
     "name": "stdout",
     "output_type": "stream",
     "text": [
      "fizzbuzz\n",
      "1\n",
      "2\n",
      "fizz\n",
      "4\n",
      "buzz\n",
      "fizz\n",
      "7\n",
      "8\n",
      "fizz\n",
      "buzz\n",
      "11\n",
      "fizz\n",
      "13\n",
      "14\n",
      "fizzbuzz\n",
      "16\n",
      "17\n",
      "fizz\n",
      "19\n",
      "buzz\n",
      "fizz\n",
      "22\n",
      "23\n",
      "fizz\n",
      "buzz\n",
      "26\n",
      "fizz\n",
      "28\n",
      "29\n",
      "fizzbuzz\n",
      "31\n",
      "32\n",
      "fizz\n",
      "34\n",
      "buzz\n",
      "fizz\n",
      "37\n",
      "38\n",
      "fizz\n",
      "buzz\n",
      "41\n",
      "fizz\n",
      "43\n",
      "44\n",
      "fizzbuzz\n",
      "46\n",
      "47\n",
      "fizz\n",
      "49\n",
      "buzz\n",
      "fizz\n",
      "52\n",
      "53\n",
      "fizz\n",
      "buzz\n",
      "56\n",
      "fizz\n",
      "58\n",
      "59\n",
      "fizzbuzz\n",
      "61\n",
      "62\n",
      "fizz\n",
      "64\n",
      "buzz\n",
      "fizz\n",
      "67\n",
      "68\n",
      "fizz\n",
      "buzz\n",
      "71\n",
      "fizz\n",
      "73\n",
      "74\n",
      "fizzbuzz\n",
      "76\n",
      "77\n",
      "fizz\n",
      "79\n",
      "buzz\n",
      "fizz\n",
      "82\n",
      "83\n",
      "fizz\n",
      "buzz\n",
      "86\n",
      "fizz\n",
      "88\n",
      "89\n",
      "fizzbuzz\n",
      "91\n",
      "92\n",
      "fizz\n",
      "94\n",
      "buzz\n",
      "fizz\n",
      "97\n",
      "98\n",
      "fizz\n",
      "buzz\n"
     ]
    }
   ],
   "source": [
    "'''Write a program that prints the numbers 1 to 100. However, for multiples of 3, print \"Fizz\" instead of the\n",
    "number. For multiples of 5, print \"Buzz\". For numbers that are multiples of both 3 and 5, print \"FizzBuzz\".'''\n",
    "\n",
    "def multiples():\n",
    "    \n",
    "    for i in range(0,101):\n",
    "        if (i%3==0) and (i%5==0):\n",
    "            print(\"fizzbuzz\")\n",
    "        elif (i%3==0):\n",
    "            print (\"fizz\")\n",
    "        elif (i%5==0):\n",
    "            print(\"buzz\")\n",
    "        else:\n",
    "            print(i)\n",
    "multiples()"
   ]
  },
  {
   "cell_type": "code",
   "execution_count": 27,
   "id": "87113efb-44af-4984-b4dc-6a9da877e8c7",
   "metadata": {},
   "outputs": [],
   "source": [
    " \n",
    "#Write a Python program to find the sum of all prime numbers up to n.\n",
    "\n",
    "def getPrimes(n):    \n",
    "    j=0\n",
    "    for i in range(2,n):\n",
    "        prime=True\n",
    "        for a in range(2,i):\n",
    "            if(i%a==0):\n",
    "                prime=False\n",
    "                break\n",
    "        if(prime):    \n",
    "            print(i)\n",
    "            j+=i\n",
    "    print(f'{j} is the  sum of prime numbers')    \n"
   ]
  },
  {
   "cell_type": "code",
   "execution_count": 29,
   "id": "a9692a9d-4768-4945-9dd3-349ff428e22c",
   "metadata": {},
   "outputs": [
    {
     "name": "stdout",
     "output_type": "stream",
     "text": [
      "2\n",
      "3\n",
      "5\n",
      "7\n",
      "11\n",
      "13\n",
      "41 is the  sum of prime numbers\n"
     ]
    }
   ],
   "source": [
    "getPrimes(14)"
   ]
  },
  {
   "cell_type": "code",
   "execution_count": 39,
   "id": "93ebd3cb-a185-4e92-ba0e-ee135c6ae4ec",
   "metadata": {},
   "outputs": [
    {
     "data": {
      "text/plain": [
       "[0, 1, 1, 2, 3, 5, 8, 13, 21, 34]"
      ]
     },
     "execution_count": 39,
     "metadata": {},
     "output_type": "execute_result"
    }
   ],
   "source": [
    "'''Write a Python program to print the Fibonacci sequence up to n terms. The Fibonacci series is a sequence of\n",
    "numbers where each number is the sum of the two preceding ones, usually starting with 0 and 1.'''\n",
    "\n",
    "def fibonacci(n):\n",
    "    l=[0,1,]\n",
    "    for i in range(1,n):\n",
    "        i=l[i]+l[i-1]\n",
    "        l.append(i)\n",
    "    return l\n",
    "\n",
    "fibonacci(9)\n",
    "                    "
   ]
  },
  {
   "cell_type": "code",
   "execution_count": 40,
   "id": "83c215b8-5181-456f-a911-78ca0782616d",
   "metadata": {},
   "outputs": [
    {
     "name": "stdin",
     "output_type": "stream",
     "text": [
      "enter the number  of rows 6\n"
     ]
    },
    {
     "name": "stdout",
     "output_type": "stream",
     "text": [
      "     *\n",
      "    ***\n",
      "   *****\n",
      "  *******\n",
      " *********\n",
      "***********\n"
     ]
    }
   ],
   "source": [
    "#Write a Python program to print the following pattern:\n",
    "def pattern3():\n",
    "    \n",
    "    n=int(input(\"enter the number  of rows\"))\n",
    "    for i in range(n):\n",
    "        print(\" \"*(n-i-1)+\"*\"*(2*i+1))\n",
    "        \n",
    "pattern3()"
   ]
  },
  {
   "cell_type": "code",
   "execution_count": 49,
   "id": "0d94f4a0-326a-46b6-a42e-928a5e3f5891",
   "metadata": {},
   "outputs": [
    {
     "name": "stdout",
     "output_type": "stream",
     "text": [
      "    A\n",
      "   BBB\n",
      "  CCCCC\n",
      " DDDDDDD\n",
      "EEEEEEEEE\n"
     ]
    }
   ],
   "source": [
    "#Write a Python program to print the following pattern:\n",
    "\n",
    "    \n",
    "l1=(\"A\",\"B\",\"C\",\"D\",\"E\")\n",
    "x=len(l1)\n",
    "for i in range(0,x):\n",
    "    print(\" \"*(x-i-1)+l1[i]*(2*i+1))\n"
   ]
  },
  {
   "cell_type": "code",
   "execution_count": null,
   "id": "0dbeff1a-16f9-4c1c-b15e-c5a135514343",
   "metadata": {},
   "outputs": [],
   "source": []
  }
 ],
 "metadata": {
  "kernelspec": {
   "display_name": "Python 3 (ipykernel)",
   "language": "python",
   "name": "python3"
  },
  "language_info": {
   "codemirror_mode": {
    "name": "ipython",
    "version": 3
   },
   "file_extension": ".py",
   "mimetype": "text/x-python",
   "name": "python",
   "nbconvert_exporter": "python",
   "pygments_lexer": "ipython3",
   "version": "3.10.8"
  }
 },
 "nbformat": 4,
 "nbformat_minor": 5
}
